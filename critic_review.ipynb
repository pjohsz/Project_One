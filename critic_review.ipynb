{
 "cells": [
  {
   "cell_type": "code",
   "execution_count": 1,
   "metadata": {},
   "outputs": [],
   "source": [
    "# Dependencies\n",
    "import numpy as np\n",
    "import pandas as pd\n",
    "import matplotlib.pyplot as plt\n",
    "import matplotlib.patches as mpatches"
   ]
  },
  {
   "cell_type": "code",
   "execution_count": 2,
   "metadata": {},
   "outputs": [
    {
     "data": {
      "text/html": [
       "<div>\n",
       "<style scoped>\n",
       "    .dataframe tbody tr th:only-of-type {\n",
       "        vertical-align: middle;\n",
       "    }\n",
       "\n",
       "    .dataframe tbody tr th {\n",
       "        vertical-align: top;\n",
       "    }\n",
       "\n",
       "    .dataframe thead th {\n",
       "        text-align: right;\n",
       "    }\n",
       "</style>\n",
       "<table border=\"1\" class=\"dataframe\">\n",
       "  <thead>\n",
       "    <tr style=\"text-align: right;\">\n",
       "      <th></th>\n",
       "      <th>Series</th>\n",
       "      <th>Movie</th>\n",
       "      <th>Critic Review</th>\n",
       "    </tr>\n",
       "  </thead>\n",
       "  <tbody>\n",
       "    <tr>\n",
       "      <th>0</th>\n",
       "      <td>Star Wars</td>\n",
       "      <td>STAR WARS: EPISODE IV - A NEW HOPE</td>\n",
       "      <td>It is the cinematic magic and the sense of joy...</td>\n",
       "    </tr>\n",
       "    <tr>\n",
       "      <th>1</th>\n",
       "      <td>Star Wars</td>\n",
       "      <td>STAR WARS: EPISODE IV - A NEW HOPE</td>\n",
       "      <td>A boy's adventure yarn in the most traditional...</td>\n",
       "    </tr>\n",
       "    <tr>\n",
       "      <th>2</th>\n",
       "      <td>Star Wars</td>\n",
       "      <td>STAR WARS: EPISODE IV - A NEW HOPE</td>\n",
       "      <td>Oh, the astronomical audiences; oh, the mundan...</td>\n",
       "    </tr>\n",
       "    <tr>\n",
       "      <th>3</th>\n",
       "      <td>Star Wars</td>\n",
       "      <td>STAR WARS: EPISODE IV - A NEW HOPE</td>\n",
       "      <td>Star Wars is, indeed, a movie that dares to be...</td>\n",
       "    </tr>\n",
       "    <tr>\n",
       "      <th>4</th>\n",
       "      <td>Star Wars</td>\n",
       "      <td>STAR WARS: EPISODE IV - A NEW HOPE</td>\n",
       "      <td>It's a \"fun movie\", as they say. Meaning that ...</td>\n",
       "    </tr>\n",
       "  </tbody>\n",
       "</table>\n",
       "</div>"
      ],
      "text/plain": [
       "      Series                               Movie  \\\n",
       "0  Star Wars  STAR WARS: EPISODE IV - A NEW HOPE   \n",
       "1  Star Wars  STAR WARS: EPISODE IV - A NEW HOPE   \n",
       "2  Star Wars  STAR WARS: EPISODE IV - A NEW HOPE   \n",
       "3  Star Wars  STAR WARS: EPISODE IV - A NEW HOPE   \n",
       "4  Star Wars  STAR WARS: EPISODE IV - A NEW HOPE   \n",
       "\n",
       "                                       Critic Review  \n",
       "0  It is the cinematic magic and the sense of joy...  \n",
       "1  A boy's adventure yarn in the most traditional...  \n",
       "2  Oh, the astronomical audiences; oh, the mundan...  \n",
       "3  Star Wars is, indeed, a movie that dares to be...  \n",
       "4  It's a \"fun movie\", as they say. Meaning that ...  "
      ]
     },
     "execution_count": 2,
     "metadata": {},
     "output_type": "execute_result"
    }
   ],
   "source": [
    "# Load file and create data frame\n",
    "file = \"Resources/critic_reviews.csv\"\n",
    "critic_reviews_df = pd.read_csv(file, encoding=\"utf8\")\n",
    "critic_reviews_df.head()"
   ]
  },
  {
   "cell_type": "code",
   "execution_count": 3,
   "metadata": {},
   "outputs": [],
   "source": [
    "# Import and Initialize Sentiment Analyzer\n",
    "from vaderSentiment.vaderSentiment import SentimentIntensityAnalyzer\n",
    "analyzer = SentimentIntensityAnalyzer()"
   ]
  },
  {
   "cell_type": "code",
   "execution_count": 4,
   "metadata": {},
   "outputs": [],
   "source": [
    "# Loop through reviews to get sentiments\n",
    "\n",
    "sentiments = []\n",
    "compound_list = []\n",
    "pos_list = []\n",
    "neu_list = []\n",
    "neg_list = []\n",
    "\n",
    "reviews = critic_reviews_df[\"Critic Review\"]\n",
    "\n",
    "for review in reviews:\n",
    "    compound = analyzer.polarity_scores(review)[\"compound\"]\n",
    "    positive = analyzer.polarity_scores(review)[\"pos\"]\n",
    "    neutral = analyzer.polarity_scores(review)[\"neu\"]\n",
    "    negative = analyzer.polarity_scores(review)[\"neg\"]\n",
    "    \n",
    "    results = analyzer.polarity_scores(review)\n",
    "    compound_list.append(results[\"compound\"])\n",
    "    pos_list.append(results[\"pos\"])\n",
    "    neg_list.append(results[\"neg\"])\n",
    "    neu_list.append(results[\"neu\"])\n",
    "    \n",
    "    sentiments.append({\"Compound\": compound,\n",
    "                      \"Positive\" : positive,\n",
    "                      \"Neutral\": neutral,\n",
    "                      \"Negative\": negative})\n",
    "    \n",
    "    "
   ]
  },
  {
   "cell_type": "code",
   "execution_count": 5,
   "metadata": {},
   "outputs": [
    {
     "data": {
      "text/html": [
       "<div>\n",
       "<style scoped>\n",
       "    .dataframe tbody tr th:only-of-type {\n",
       "        vertical-align: middle;\n",
       "    }\n",
       "\n",
       "    .dataframe tbody tr th {\n",
       "        vertical-align: top;\n",
       "    }\n",
       "\n",
       "    .dataframe thead th {\n",
       "        text-align: right;\n",
       "    }\n",
       "</style>\n",
       "<table border=\"1\" class=\"dataframe\">\n",
       "  <thead>\n",
       "    <tr style=\"text-align: right;\">\n",
       "      <th></th>\n",
       "      <th>Compound</th>\n",
       "      <th>Negative</th>\n",
       "      <th>Neutral</th>\n",
       "      <th>Positive</th>\n",
       "    </tr>\n",
       "  </thead>\n",
       "  <tbody>\n",
       "    <tr>\n",
       "      <th>0</th>\n",
       "      <td>0.7778</td>\n",
       "      <td>0.129</td>\n",
       "      <td>0.500</td>\n",
       "      <td>0.371</td>\n",
       "    </tr>\n",
       "    <tr>\n",
       "      <th>1</th>\n",
       "      <td>0.6666</td>\n",
       "      <td>0.000</td>\n",
       "      <td>0.594</td>\n",
       "      <td>0.406</td>\n",
       "    </tr>\n",
       "    <tr>\n",
       "      <th>2</th>\n",
       "      <td>0.3612</td>\n",
       "      <td>0.059</td>\n",
       "      <td>0.844</td>\n",
       "      <td>0.097</td>\n",
       "    </tr>\n",
       "    <tr>\n",
       "      <th>3</th>\n",
       "      <td>-0.8920</td>\n",
       "      <td>0.198</td>\n",
       "      <td>0.802</td>\n",
       "      <td>0.000</td>\n",
       "    </tr>\n",
       "    <tr>\n",
       "      <th>4</th>\n",
       "      <td>0.9468</td>\n",
       "      <td>0.000</td>\n",
       "      <td>0.580</td>\n",
       "      <td>0.420</td>\n",
       "    </tr>\n",
       "  </tbody>\n",
       "</table>\n",
       "</div>"
      ],
      "text/plain": [
       "   Compound  Negative  Neutral  Positive\n",
       "0    0.7778     0.129    0.500     0.371\n",
       "1    0.6666     0.000    0.594     0.406\n",
       "2    0.3612     0.059    0.844     0.097\n",
       "3   -0.8920     0.198    0.802     0.000\n",
       "4    0.9468     0.000    0.580     0.420"
      ]
     },
     "execution_count": 5,
     "metadata": {},
     "output_type": "execute_result"
    }
   ],
   "source": [
    "sentiment_df = pd.DataFrame(sentiments)\n",
    "sentiment_df.head()"
   ]
  },
  {
   "cell_type": "code",
   "execution_count": 6,
   "metadata": {},
   "outputs": [
    {
     "data": {
      "text/html": [
       "<div>\n",
       "<style scoped>\n",
       "    .dataframe tbody tr th:only-of-type {\n",
       "        vertical-align: middle;\n",
       "    }\n",
       "\n",
       "    .dataframe tbody tr th {\n",
       "        vertical-align: top;\n",
       "    }\n",
       "\n",
       "    .dataframe thead th {\n",
       "        text-align: right;\n",
       "    }\n",
       "</style>\n",
       "<table border=\"1\" class=\"dataframe\">\n",
       "  <thead>\n",
       "    <tr style=\"text-align: right;\">\n",
       "      <th></th>\n",
       "      <th>Series</th>\n",
       "      <th>Movie</th>\n",
       "      <th>Critic Review</th>\n",
       "      <th>Compound</th>\n",
       "      <th>Negative</th>\n",
       "      <th>Neutral</th>\n",
       "      <th>Positive</th>\n",
       "    </tr>\n",
       "  </thead>\n",
       "  <tbody>\n",
       "    <tr>\n",
       "      <th>0</th>\n",
       "      <td>Star Wars</td>\n",
       "      <td>STAR WARS: EPISODE IV - A NEW HOPE</td>\n",
       "      <td>It is the cinematic magic and the sense of joy...</td>\n",
       "      <td>0.7778</td>\n",
       "      <td>0.129</td>\n",
       "      <td>0.500</td>\n",
       "      <td>0.371</td>\n",
       "    </tr>\n",
       "    <tr>\n",
       "      <th>1</th>\n",
       "      <td>Star Wars</td>\n",
       "      <td>STAR WARS: EPISODE IV - A NEW HOPE</td>\n",
       "      <td>A boy's adventure yarn in the most traditional...</td>\n",
       "      <td>0.6666</td>\n",
       "      <td>0.000</td>\n",
       "      <td>0.594</td>\n",
       "      <td>0.406</td>\n",
       "    </tr>\n",
       "    <tr>\n",
       "      <th>2</th>\n",
       "      <td>Star Wars</td>\n",
       "      <td>STAR WARS: EPISODE IV - A NEW HOPE</td>\n",
       "      <td>Oh, the astronomical audiences; oh, the mundan...</td>\n",
       "      <td>0.3612</td>\n",
       "      <td>0.059</td>\n",
       "      <td>0.844</td>\n",
       "      <td>0.097</td>\n",
       "    </tr>\n",
       "    <tr>\n",
       "      <th>3</th>\n",
       "      <td>Star Wars</td>\n",
       "      <td>STAR WARS: EPISODE IV - A NEW HOPE</td>\n",
       "      <td>Star Wars is, indeed, a movie that dares to be...</td>\n",
       "      <td>-0.8920</td>\n",
       "      <td>0.198</td>\n",
       "      <td>0.802</td>\n",
       "      <td>0.000</td>\n",
       "    </tr>\n",
       "    <tr>\n",
       "      <th>4</th>\n",
       "      <td>Star Wars</td>\n",
       "      <td>STAR WARS: EPISODE IV - A NEW HOPE</td>\n",
       "      <td>It's a \"fun movie\", as they say. Meaning that ...</td>\n",
       "      <td>0.9468</td>\n",
       "      <td>0.000</td>\n",
       "      <td>0.580</td>\n",
       "      <td>0.420</td>\n",
       "    </tr>\n",
       "  </tbody>\n",
       "</table>\n",
       "</div>"
      ],
      "text/plain": [
       "      Series                               Movie  \\\n",
       "0  Star Wars  STAR WARS: EPISODE IV - A NEW HOPE   \n",
       "1  Star Wars  STAR WARS: EPISODE IV - A NEW HOPE   \n",
       "2  Star Wars  STAR WARS: EPISODE IV - A NEW HOPE   \n",
       "3  Star Wars  STAR WARS: EPISODE IV - A NEW HOPE   \n",
       "4  Star Wars  STAR WARS: EPISODE IV - A NEW HOPE   \n",
       "\n",
       "                                       Critic Review  Compound  Negative  \\\n",
       "0  It is the cinematic magic and the sense of joy...    0.7778     0.129   \n",
       "1  A boy's adventure yarn in the most traditional...    0.6666     0.000   \n",
       "2  Oh, the astronomical audiences; oh, the mundan...    0.3612     0.059   \n",
       "3  Star Wars is, indeed, a movie that dares to be...   -0.8920     0.198   \n",
       "4  It's a \"fun movie\", as they say. Meaning that ...    0.9468     0.000   \n",
       "\n",
       "   Neutral  Positive  \n",
       "0    0.500     0.371  \n",
       "1    0.594     0.406  \n",
       "2    0.844     0.097  \n",
       "3    0.802     0.000  \n",
       "4    0.580     0.420  "
      ]
     },
     "execution_count": 6,
     "metadata": {},
     "output_type": "execute_result"
    }
   ],
   "source": [
    "# Merge dataframes\n",
    "critics_df = pd.concat([critic_reviews_df, sentiment_df], axis=1)\n",
    "critics_df.head()"
   ]
  },
  {
   "cell_type": "code",
   "execution_count": 109,
   "metadata": {},
   "outputs": [],
   "source": [
    "#Output \n",
    "critics_df.to_csv(\"Output/critic_reviews_with_sentiments.csv\", encoding=\"utf8\", index=False)"
   ]
  },
  {
   "cell_type": "markdown",
   "metadata": {},
   "source": [
    "### Star Wars vs Star Trek: Critic Review"
   ]
  },
  {
   "cell_type": "code",
   "execution_count": 7,
   "metadata": {},
   "outputs": [
    {
     "data": {
      "text/html": [
       "<div>\n",
       "<style scoped>\n",
       "    .dataframe tbody tr th:only-of-type {\n",
       "        vertical-align: middle;\n",
       "    }\n",
       "\n",
       "    .dataframe tbody tr th {\n",
       "        vertical-align: top;\n",
       "    }\n",
       "\n",
       "    .dataframe thead th {\n",
       "        text-align: right;\n",
       "    }\n",
       "</style>\n",
       "<table border=\"1\" class=\"dataframe\">\n",
       "  <thead>\n",
       "    <tr style=\"text-align: right;\">\n",
       "      <th></th>\n",
       "      <th>Compound</th>\n",
       "    </tr>\n",
       "    <tr>\n",
       "      <th>Movie</th>\n",
       "      <th></th>\n",
       "    </tr>\n",
       "  </thead>\n",
       "  <tbody>\n",
       "    <tr>\n",
       "      <th>ROGUE ONE: A STAR WARS STORY</th>\n",
       "      <td>0.136729</td>\n",
       "    </tr>\n",
       "    <tr>\n",
       "      <th>STAR TREK</th>\n",
       "      <td>0.440570</td>\n",
       "    </tr>\n",
       "    <tr>\n",
       "      <th>STAR TREK - NEMESIS</th>\n",
       "      <td>0.182735</td>\n",
       "    </tr>\n",
       "    <tr>\n",
       "      <th>STAR TREK BEYOND</th>\n",
       "      <td>0.416846</td>\n",
       "    </tr>\n",
       "    <tr>\n",
       "      <th>STAR TREK GENERATIONS</th>\n",
       "      <td>0.145183</td>\n",
       "    </tr>\n",
       "    <tr>\n",
       "      <th>STAR TREK II: THE WRATH OF KHAN</th>\n",
       "      <td>0.404005</td>\n",
       "    </tr>\n",
       "    <tr>\n",
       "      <th>STAR TREK III - THE SEARCH FOR SPOCK</th>\n",
       "      <td>0.222100</td>\n",
       "    </tr>\n",
       "    <tr>\n",
       "      <th>STAR TREK INTO DARKNESS</th>\n",
       "      <td>0.351401</td>\n",
       "    </tr>\n",
       "    <tr>\n",
       "      <th>STAR TREK IV - THE VOYAGE HOME</th>\n",
       "      <td>0.448476</td>\n",
       "    </tr>\n",
       "    <tr>\n",
       "      <th>STAR TREK V - THE FINAL FRONTIER</th>\n",
       "      <td>-0.011174</td>\n",
       "    </tr>\n",
       "    <tr>\n",
       "      <th>STAR TREK VI - THE UNDISCOVERED COUNTRY</th>\n",
       "      <td>0.403934</td>\n",
       "    </tr>\n",
       "    <tr>\n",
       "      <th>STAR TREK: FIRST CONTACT</th>\n",
       "      <td>0.501527</td>\n",
       "    </tr>\n",
       "    <tr>\n",
       "      <th>STAR TREK: INSURRECTION</th>\n",
       "      <td>0.168700</td>\n",
       "    </tr>\n",
       "    <tr>\n",
       "      <th>STAR TREK: THE MOTION PICTURE</th>\n",
       "      <td>0.180167</td>\n",
       "    </tr>\n",
       "    <tr>\n",
       "      <th>STAR WARS: EPISODE I - THE PHANTOM MENACE</th>\n",
       "      <td>0.115234</td>\n",
       "    </tr>\n",
       "    <tr>\n",
       "      <th>STAR WARS: EPISODE II - ATTACK OF THE CLONES</th>\n",
       "      <td>0.084718</td>\n",
       "    </tr>\n",
       "    <tr>\n",
       "      <th>STAR WARS: EPISODE III - REVENGE OF THE SITH</th>\n",
       "      <td>0.065656</td>\n",
       "    </tr>\n",
       "    <tr>\n",
       "      <th>STAR WARS: EPISODE IV - A NEW HOPE</th>\n",
       "      <td>0.365118</td>\n",
       "    </tr>\n",
       "    <tr>\n",
       "      <th>STAR WARS: EPISODE V - THE EMPIRE STRIKES BACK</th>\n",
       "      <td>0.354570</td>\n",
       "    </tr>\n",
       "    <tr>\n",
       "      <th>STAR WARS: EPISODE VI - RETURN OF THE JEDI</th>\n",
       "      <td>0.149369</td>\n",
       "    </tr>\n",
       "    <tr>\n",
       "      <th>STAR WARS: EPISODE VII - THE FORCE AWAKENS</th>\n",
       "      <td>0.339189</td>\n",
       "    </tr>\n",
       "    <tr>\n",
       "      <th>STAR WARS: THE LAST JEDI</th>\n",
       "      <td>0.276805</td>\n",
       "    </tr>\n",
       "  </tbody>\n",
       "</table>\n",
       "</div>"
      ],
      "text/plain": [
       "                                                Compound\n",
       "Movie                                                   \n",
       "ROGUE ONE: A STAR WARS STORY                    0.136729\n",
       "STAR TREK                                       0.440570\n",
       "STAR TREK - NEMESIS                             0.182735\n",
       "STAR TREK BEYOND                                0.416846\n",
       "STAR TREK GENERATIONS                           0.145183\n",
       "STAR TREK II: THE WRATH OF KHAN                 0.404005\n",
       "STAR TREK III - THE SEARCH FOR SPOCK            0.222100\n",
       "STAR TREK INTO DARKNESS                         0.351401\n",
       "STAR TREK IV - THE VOYAGE HOME                  0.448476\n",
       "STAR TREK V - THE FINAL FRONTIER               -0.011174\n",
       "STAR TREK VI - THE UNDISCOVERED COUNTRY         0.403934\n",
       "STAR TREK: FIRST CONTACT                        0.501527\n",
       "STAR TREK: INSURRECTION                         0.168700\n",
       "STAR TREK: THE MOTION PICTURE                   0.180167\n",
       "STAR WARS: EPISODE I - THE PHANTOM MENACE       0.115234\n",
       "STAR WARS: EPISODE II - ATTACK OF THE CLONES    0.084718\n",
       "STAR WARS: EPISODE III - REVENGE OF THE SITH    0.065656\n",
       "STAR WARS: EPISODE IV - A NEW HOPE              0.365118\n",
       "STAR WARS: EPISODE V - THE EMPIRE STRIKES BACK  0.354570\n",
       "STAR WARS: EPISODE VI - RETURN OF THE JEDI      0.149369\n",
       "STAR WARS: EPISODE VII - THE FORCE AWAKENS      0.339189\n",
       "STAR WARS: THE LAST JEDI                        0.276805"
      ]
     },
     "execution_count": 7,
     "metadata": {},
     "output_type": "execute_result"
    }
   ],
   "source": [
    "#Get the average compound score of each movie\n",
    "movie_group = critics_df.groupby(\"Movie\")\n",
    "group_mean = movie_group[\"Compound\"].mean()\n",
    "pd.DataFrame(group_mean)"
   ]
  },
  {
   "cell_type": "code",
   "execution_count": 8,
   "metadata": {},
   "outputs": [],
   "source": [
    "# To make life easier\n",
    "sw4 = \"STAR WARS: EPISODE IV - A NEW HOPE\"\n",
    "sw5 = \"STAR WARS: EPISODE V - THE EMPIRE STRIKES BACK\"\n",
    "sw6 = \"STAR WARS: EPISODE VI - RETURN OF THE JEDI\"\n",
    "sw1 = \"STAR WARS: EPISODE I - THE PHANTOM MENACE\"\n",
    "sw2 = \"STAR WARS: EPISODE II - ATTACK OF THE CLONES\"\n",
    "sw3 = \"STAR WARS: EPISODE III - REVENGE OF THE SITH\"\n",
    "sw7 = \"STAR WARS: EPISODE VII - THE FORCE AWAKENS\"\n",
    "sw8 = \"STAR WARS: THE LAST JEDI\"\n",
    "r1 = \"ROGUE ONE: A STAR WARS STORY\"\n",
    "\n",
    "st1 = \"STAR TREK: THE MOTION PICTURE\"\n",
    "st2 = \"STAR TREK II: THE WRATH OF KHAN\"\n",
    "st3 = \"STAR TREK III - THE SEARCH FOR SPOCK\"\n",
    "st4 = \"STAR TREK IV - THE VOYAGE HOME\"\n",
    "st5 = \"STAR TREK V - THE FINAL FRONTIER\"\n",
    "st6 = \"STAR TREK VI - THE UNDISCOVERED COUNTRY\"\n",
    "\n",
    "generations = \"STAR TREK GENERATIONS\"\n",
    "contact = \"STAR TREK: FIRST CONTACT\"\n",
    "insurrection = \"STAR TREK: INSURRECTION\"\n",
    "nemesis = \"STAR TREK - NEMESIS\"\n",
    "\n",
    "st09 = \"STAR TREK\"\n",
    "darkness = \"STAR TREK INTO DARKNESS\"\n",
    "beyond = \"STAR TREK BEYOND\"\n"
   ]
  },
  {
   "cell_type": "code",
   "execution_count": 124,
   "metadata": {},
   "outputs": [
    {
     "data": {
      "image/png": "[encoded data removed]",
      "text/plain": [
       "<Figure size 432x288 with 1 Axes>"
      ]
     },
     "metadata": {},
     "output_type": "display_data"
    }
   ],
   "source": [
    "#Combine\n",
    "sw_polarity = (group_mean[sw4], group_mean[sw5], group_mean[sw6], group_mean[sw1], group_mean[sw2],\n",
    "              group_mean[sw3], group_mean[sw7], group_mean[sw8], group_mean[r1], group_mean[st1],\n",
    "              group_mean[st2], group_mean[st3], group_mean[st4], group_mean[st5], group_mean[st6],\n",
    "              group_mean[generations], group_mean[contact], group_mean[insurrection],\n",
    "              group_mean[nemesis], group_mean[st09], group_mean[darkness], group_mean[beyond])\n",
    "\n",
    "fig, ax = plt.subplots()\n",
    "ind = np.arange(len(sw_polarity))\n",
    "width = 0.75\n",
    "rect1 = ax.bar(ind[0], sw_polarity[0], width, color=\"red\")\n",
    "rect2 = ax.bar(ind[1], sw_polarity[1], width, color=\"red\")\n",
    "rect3 = ax.bar(ind[2], sw_polarity[2], width, color=\"red\")\n",
    "rect4 = ax.bar(ind[3], sw_polarity[3], width, color='lightcoral')\n",
    "rect5 = ax.bar(ind[4], sw_polarity[4], width, color='lightcoral')\n",
    "rect6 = ax.bar(ind[5], sw_polarity[5], width, color='lightcoral')\n",
    "rect7 = ax.bar(ind[6], sw_polarity[6], width, color='firebrick')\n",
    "rect8 = ax.bar(ind[7], sw_polarity[7], width, color='firebrick')\n",
    "rect9 = ax.bar(ind[8], sw_polarity[8], width, color='salmon')\n",
    "rect10 = ax.bar(ind[9], sw_polarity[9], width, color=\"blue\")\n",
    "rect11 = ax.bar(ind[10], sw_polarity[10], width, color=\"blue\")\n",
    "rect12 = ax.bar(ind[11], sw_polarity[11], width, color=\"blue\")\n",
    "rect13 = ax.bar(ind[12], sw_polarity[12], width, color='blue')\n",
    "rect14 = ax.bar(ind[13], sw_polarity[13], width, color='blue')\n",
    "rect15 = ax.bar(ind[14], sw_polarity[14], width, color='blue')\n",
    "rect16 = ax.bar(ind[15], sw_polarity[15], width, color='lightskyblue')\n",
    "rect17 = ax.bar(ind[16], sw_polarity[16], width, color='lightskyblue')\n",
    "rect18 = ax.bar(ind[17], sw_polarity[17], width, color='lightskyblue')\n",
    "rect19 = ax.bar(ind[18], sw_polarity[18], width, color='lightskyblue')\n",
    "rect20 = ax.bar(ind[19], sw_polarity[19], width, color='dodgerblue')\n",
    "rect21 = ax.bar(ind[20], sw_polarity[20], width, color='dodgerblue')\n",
    "rect22 = ax.bar(ind[21], sw_polarity[21], width, color='dodgerblue')\n",
    "\n",
    "#Labels\n",
    "plt.title(\"Star Wars VS Star Trek Critic Review Polarity\")\n",
    "plt.ylabel(\"Critic Polarity\")\n",
    "plt.ylim(-0.05,0.55)\n",
    "labels = [sw4, sw5, sw6, sw1, sw2, sw3, sw7, sw8, r1,st1, st2, st3, st4, st5, st6, generations, contact, insurrection, nemesis, st09, darkness, beyond ]\n",
    "plt.xticks(ind, labels, rotation=270)\n",
    "redcolor = mpatches.Patch(color=\"red\", label=\"Star Wars\")\n",
    "bluecolor = mpatches.Patch(color=\"blue\", label=\"Star Trek\")\n",
    "plt.legend(handles=[redcolor, bluecolor], loc=\"best\", bbox_to_anchor=(1,1))\n",
    "ax.yaxis.grid(which=\"major\", linestyle=\"--\", color=\"lightgrey\", alpha=0.5)\n",
    "plt.savefig(\"Images/movie_critic_polarity.png\", bbox_inches=\"tight\")\n",
    "plt.show()\n"
   ]
  },
  {
   "cell_type": "markdown",
   "metadata": {},
   "source": [
    "### Comparing Sentiment Within Star Wars Movies"
   ]
  },
  {
   "cell_type": "code",
   "execution_count": 163,
   "metadata": {},
   "outputs": [
    {
     "data": {
      "image/png": "[encoded data removed]",
      "text/plain": [
       "<Figure size 432x288 with 1 Axes>"
      ]
     },
     "metadata": {},
     "output_type": "display_data"
    }
   ],
   "source": [
    "# box plot to compare star wars movies\n",
    "sw4_compound = critics_df.Compound[critics_df[\"Movie\"]==sw4].values\n",
    "sw5_compound = critics_df.Compound[critics_df[\"Movie\"]==sw5].values\n",
    "sw6_compound = critics_df.Compound[critics_df[\"Movie\"]==sw6].values\n",
    "sw1_compound = critics_df.Compound[critics_df[\"Movie\"]==sw1].values\n",
    "sw2_compound = critics_df.Compound[critics_df[\"Movie\"]==sw2].values\n",
    "sw3_compound = critics_df.Compound[critics_df[\"Movie\"]==sw3].values\n",
    "sw7_compound = critics_df.Compound[critics_df[\"Movie\"]==sw7].values\n",
    "sw8_compound = critics_df.Compound[critics_df[\"Movie\"]==sw8].values\n",
    "r1_compound = critics_df.Compound[critics_df[\"Movie\"]==r1].values\n",
    "\n",
    "sw_compound = [sw4_compound, sw5_compound, sw6_compound, sw1_compound, sw2_compound, \n",
    "               sw3_compound, sw7_compound, sw8_compound, r1_compound]\n",
    "\n",
    "fig1, ax = plt.subplots()\n",
    "ax.boxplot(sw_compound, showmeans=True)\n",
    "\n",
    "#Plot Labels\n",
    "tick_labels = [sw4, sw5, sw6, sw1, sw2, sw3, sw7, sw8, r1]\n",
    "ax.set_xticklabels(tick_labels, rotation=270)\n",
    "plt.title(\"Box Plot Star Wars Movies\")\n",
    "plt.ylabel(\"Polarity Score\")\n",
    "plt.grid(True, color=\"lightgrey\", alpha=0.5, linestyle=\"--\")\n",
    "plt.savefig(\"Images/Star_Wars_box.png\", bbox_inches=\"tight\")\n",
    "plt.show()"
   ]
  },
  {
   "cell_type": "markdown",
   "metadata": {},
   "source": [
    "### Comparing Sentiment Within Star Trek Movies"
   ]
  },
  {
   "cell_type": "code",
   "execution_count": 173,
   "metadata": {},
   "outputs": [
    {
     "data": {
      "image/png": "[encoded data removed]",
      "text/plain": [
       "<Figure size 432x288 with 1 Axes>"
      ]
     },
     "metadata": {},
     "output_type": "display_data"
    }
   ],
   "source": [
    "# box plot to compare star wars movies\n",
    "st1_compound = critics_df.Compound[critics_df[\"Movie\"]==st1].values\n",
    "st2_compound = critics_df.Compound[critics_df[\"Movie\"]==st2].values\n",
    "st3_compound = critics_df.Compound[critics_df[\"Movie\"]==st3].values\n",
    "st4_compound = critics_df.Compound[critics_df[\"Movie\"]==st4].values\n",
    "st5_compound = critics_df.Compound[critics_df[\"Movie\"]==st5].values\n",
    "st6_compound = critics_df.Compound[critics_df[\"Movie\"]==st6].values\n",
    "generations_compound = critics_df.Compound[critics_df[\"Movie\"]==generations].values\n",
    "contact_compound = critics_df.Compound[critics_df[\"Movie\"]==contact].values\n",
    "insurrection_compound = critics_df.Compound[critics_df[\"Movie\"]==insurrection].values\n",
    "nemesis_compound = critics_df.Compound[critics_df[\"Movie\"]==nemesis].values\n",
    "st09_compound = critics_df.Compound[critics_df[\"Movie\"]==st09].values\n",
    "darkness_compound = critics_df.Compound[critics_df[\"Movie\"]==darkness].values\n",
    "beyond_compound = critics_df.Compound[critics_df[\"Movie\"]==beyond].values\n",
    "\n",
    "st_compound = [st1_compound, st2_compound, st3_compound, st4_compound, st5_compound, \n",
    "               st6_compound, generations_compound, contact_compound, insurrection_compound, \n",
    "               nemesis_compound, st09_compound, darkness_compound, beyond_compound]\n",
    "\n",
    "fig2, ax = plt.subplots()\n",
    "ax.boxplot(st_compound, showmeans=True)\n",
    "\n",
    "#Plot Labels\n",
    "tick_labels = [st1, st2, st3, st4, st5, st6, generations, contact, insurrection, nemesis,\n",
    "              st09, darkness, beyond]\n",
    "ax.set_xticklabels(tick_labels, rotation=270)\n",
    "plt.title(\"Box Plot Star Trek Movies\")\n",
    "plt.grid(True, color=\"lightgrey\", alpha=0.5, linestyle=\"--\")\n",
    "plt.savefig(\"Images/Star_Trek_box.png\", bbox_inches=\"tight\")\n",
    "plt.show()\n",
    "\n"
   ]
  },
  {
   "cell_type": "markdown",
   "metadata": {},
   "source": [
    "### Compare Sentiments Between Franchise"
   ]
  },
  {
   "cell_type": "code",
   "execution_count": 141,
   "metadata": {},
   "outputs": [
    {
     "data": {
      "image/png": "[encoded data removed]",
      "text/plain": [
       "<Figure size 432x288 with 1 Axes>"
      ]
     },
     "metadata": {},
     "output_type": "display_data"
    }
   ],
   "source": [
    "#Box plots to compare sentiments for series\n",
    "\n",
    "starwars_critics = critics_df.Compound[critic_reviews_df[\"Series\"]==\"Star Wars\"]\n",
    "startrek_critics = critics_df.Compound[critic_reviews_df[\"Series\"]==\"Star Trek\"]\n",
    "\n",
    "starwars_critics = pd.DataFrame(starwars_critics)\n",
    "startrek_critics = pd.DataFrame(startrek_critics)\n",
    "\n",
    "starwars_compound = starwars_critics[\"Compound\"].values\n",
    "startrek_compound = startrek_critics[\"Compound\"].values\n",
    "\n",
    "data = [starwars_compound, startrek_compound]\n",
    "fig, ax = plt.subplots()\n",
    "ax.boxplot(data, showmeans=True)\n",
    "\n",
    "#Plot Labels\n",
    "tick_labels = [\"Star Wars\", \"Star Trek\"]\n",
    "ax.set_xticklabels(tick_labels)\n",
    "plt.title(\"Box Plot of Critic Review Sentiments\")\n",
    "plt.grid(True, color=\"lightgrey\", alpha=0.5, linestyle=\"--\")\n",
    "plt.savefig(\"Images/box_plot.png\")\n",
    "plt.show()"
   ]
  },
  {
   "cell_type": "markdown",
   "metadata": {},
   "source": [
    "### Compare Franchise Overall Critic Review"
   ]
  },
  {
   "cell_type": "code",
   "execution_count": 127,
   "metadata": {},
   "outputs": [
    {
     "data": {
      "text/plain": [
       "Series\n",
       "Star Trek    0.348493\n",
       "Star Wars    0.201552\n",
       "Name: Compound, dtype: float64"
      ]
     },
     "execution_count": 127,
     "metadata": {},
     "output_type": "execute_result"
    }
   ],
   "source": [
    "#Compare Series Overall\n",
    "series_group = critics_df.groupby(\"Series\")\n",
    "series_mean = series_group[\"Compound\"].mean()\n",
    "series_mean"
   ]
  },
  {
   "cell_type": "code",
   "execution_count": 145,
   "metadata": {},
   "outputs": [
    {
     "data": {
      "image/png": "[encoded data removed]",
      "text/plain": [
       "<Figure size 432x288 with 1 Axes>"
      ]
     },
     "metadata": {},
     "output_type": "display_data"
    }
   ],
   "source": [
    "# Visualize it\n",
    "plt.bar(\"Star Wars\", series_mean[\"Star Wars\"], color=\"darkred\", alpha=0.8, width=0.5)\n",
    "plt.bar(\"Star Trek\", series_mean[\"Star Trek\"], color=\"navy\", alpha=0.8, width=0.5)\n",
    "\n",
    "#Plot Labels\n",
    "plt.title(\"Overall Critic Review Score\")\n",
    "plt.ylabel(\"Polarity Score\")\n",
    "plt.savefig(\"Images/overall_score.png\")\n",
    "plt.show()"
   ]
  },
  {
   "cell_type": "code",
   "execution_count": null,
   "metadata": {},
   "outputs": [],
   "source": []
  }
 ],
 "metadata": {
  "kernelspec": {
   "display_name": "Python 3",
   "language": "python",
   "name": "python3"
  },
  "language_info": {
   "codemirror_mode": {
    "name": "ipython",
    "version": 3
   },
   "file_extension": ".py",
   "mimetype": "text/x-python",
   "name": "python",
   "nbconvert_exporter": "python",
   "pygments_lexer": "ipython3",
   "version": "3.6.5"
  }
 },
 "nbformat": 4,
 "nbformat_minor": 2
}
